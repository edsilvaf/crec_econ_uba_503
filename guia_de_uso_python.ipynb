{
  "nbformat": 4,
  "nbformat_minor": 0,
  "metadata": {
    "colab": {
      "provenance": [],
      "include_colab_link": true
    },
    "kernelspec": {
      "name": "python3",
      "display_name": "Python 3"
    },
    "language_info": {
      "name": "python"
    }
  },
  "cells": [
    {
      "cell_type": "markdown",
      "metadata": {
        "id": "view-in-github",
        "colab_type": "text"
      },
      "source": [
        "<a href=\"https://colab.research.google.com/github/edsilvaf/crec_econ_uba_503/blob/main/guia_de_uso_python.ipynb\" target=\"_parent\"><img src=\"https://colab.research.google.com/assets/colab-badge.svg\" alt=\"Open In Colab\"/></a>"
      ]
    },
    {
      "cell_type": "code",
      "execution_count": null,
      "metadata": {
        "colab": {
          "base_uri": "https://localhost:8080/",
          "height": 391
        },
        "id": "BjrTgAAMtzv6",
        "outputId": "8c0be970-9d67-4a76-c424-3b8989ab22f8"
      },
      "outputs": [
        {
          "output_type": "stream",
          "name": "stdout",
          "text": [
            "PIB de Argentina: 445000\n"
          ]
        },
        {
          "output_type": "error",
          "ename": "FileNotFoundError",
          "evalue": "[Errno 2] No such file or directory: 'pwt100.xlsx'",
          "traceback": [
            "\u001b[0;31m---------------------------------------------------------------------------\u001b[0m",
            "\u001b[0;31mFileNotFoundError\u001b[0m                         Traceback (most recent call last)",
            "\u001b[0;32m/tmp/ipython-input-3804668733.py\u001b[0m in \u001b[0;36m<cell line: 0>\u001b[0;34m()\u001b[0m\n\u001b[1;32m     14\u001b[0m \u001b[0;31m# Después leer el archivo:\u001b[0m\u001b[0;34m\u001b[0m\u001b[0;34m\u001b[0m\u001b[0m\n\u001b[1;32m     15\u001b[0m \u001b[0;32mimport\u001b[0m \u001b[0mpandas\u001b[0m \u001b[0;32mas\u001b[0m \u001b[0mpd\u001b[0m\u001b[0;34m\u001b[0m\u001b[0;34m\u001b[0m\u001b[0m\n\u001b[0;32m---> 16\u001b[0;31m \u001b[0mdatos\u001b[0m \u001b[0;34m=\u001b[0m \u001b[0mpd\u001b[0m\u001b[0;34m.\u001b[0m\u001b[0mread_excel\u001b[0m\u001b[0;34m(\u001b[0m\u001b[0;34m'pwt100.xlsx'\u001b[0m\u001b[0;34m)\u001b[0m\u001b[0;34m\u001b[0m\u001b[0;34m\u001b[0m\u001b[0m\n\u001b[0m\u001b[1;32m     17\u001b[0m \u001b[0;34m\u001b[0m\u001b[0m\n\u001b[1;32m     18\u001b[0m \u001b[0;31m#Conexión con Drive\u001b[0m\u001b[0;34m\u001b[0m\u001b[0;34m\u001b[0m\u001b[0m\n",
            "\u001b[0;32m/usr/local/lib/python3.12/dist-packages/pandas/io/excel/_base.py\u001b[0m in \u001b[0;36mread_excel\u001b[0;34m(io, sheet_name, header, names, index_col, usecols, dtype, engine, converters, true_values, false_values, skiprows, nrows, na_values, keep_default_na, na_filter, verbose, parse_dates, date_parser, date_format, thousands, decimal, comment, skipfooter, storage_options, dtype_backend, engine_kwargs)\u001b[0m\n\u001b[1;32m    493\u001b[0m     \u001b[0;32mif\u001b[0m \u001b[0;32mnot\u001b[0m \u001b[0misinstance\u001b[0m\u001b[0;34m(\u001b[0m\u001b[0mio\u001b[0m\u001b[0;34m,\u001b[0m \u001b[0mExcelFile\u001b[0m\u001b[0;34m)\u001b[0m\u001b[0;34m:\u001b[0m\u001b[0;34m\u001b[0m\u001b[0;34m\u001b[0m\u001b[0m\n\u001b[1;32m    494\u001b[0m         \u001b[0mshould_close\u001b[0m \u001b[0;34m=\u001b[0m \u001b[0;32mTrue\u001b[0m\u001b[0;34m\u001b[0m\u001b[0;34m\u001b[0m\u001b[0m\n\u001b[0;32m--> 495\u001b[0;31m         io = ExcelFile(\n\u001b[0m\u001b[1;32m    496\u001b[0m             \u001b[0mio\u001b[0m\u001b[0;34m,\u001b[0m\u001b[0;34m\u001b[0m\u001b[0;34m\u001b[0m\u001b[0m\n\u001b[1;32m    497\u001b[0m             \u001b[0mstorage_options\u001b[0m\u001b[0;34m=\u001b[0m\u001b[0mstorage_options\u001b[0m\u001b[0;34m,\u001b[0m\u001b[0;34m\u001b[0m\u001b[0;34m\u001b[0m\u001b[0m\n",
            "\u001b[0;32m/usr/local/lib/python3.12/dist-packages/pandas/io/excel/_base.py\u001b[0m in \u001b[0;36m__init__\u001b[0;34m(self, path_or_buffer, engine, storage_options, engine_kwargs)\u001b[0m\n\u001b[1;32m   1548\u001b[0m                 \u001b[0mext\u001b[0m \u001b[0;34m=\u001b[0m \u001b[0;34m\"xls\"\u001b[0m\u001b[0;34m\u001b[0m\u001b[0;34m\u001b[0m\u001b[0m\n\u001b[1;32m   1549\u001b[0m             \u001b[0;32melse\u001b[0m\u001b[0;34m:\u001b[0m\u001b[0;34m\u001b[0m\u001b[0;34m\u001b[0m\u001b[0m\n\u001b[0;32m-> 1550\u001b[0;31m                 ext = inspect_excel_format(\n\u001b[0m\u001b[1;32m   1551\u001b[0m                     \u001b[0mcontent_or_path\u001b[0m\u001b[0;34m=\u001b[0m\u001b[0mpath_or_buffer\u001b[0m\u001b[0;34m,\u001b[0m \u001b[0mstorage_options\u001b[0m\u001b[0;34m=\u001b[0m\u001b[0mstorage_options\u001b[0m\u001b[0;34m\u001b[0m\u001b[0;34m\u001b[0m\u001b[0m\n\u001b[1;32m   1552\u001b[0m                 )\n",
            "\u001b[0;32m/usr/local/lib/python3.12/dist-packages/pandas/io/excel/_base.py\u001b[0m in \u001b[0;36minspect_excel_format\u001b[0;34m(content_or_path, storage_options)\u001b[0m\n\u001b[1;32m   1400\u001b[0m         \u001b[0mcontent_or_path\u001b[0m \u001b[0;34m=\u001b[0m \u001b[0mBytesIO\u001b[0m\u001b[0;34m(\u001b[0m\u001b[0mcontent_or_path\u001b[0m\u001b[0;34m)\u001b[0m\u001b[0;34m\u001b[0m\u001b[0;34m\u001b[0m\u001b[0m\n\u001b[1;32m   1401\u001b[0m \u001b[0;34m\u001b[0m\u001b[0m\n\u001b[0;32m-> 1402\u001b[0;31m     with get_handle(\n\u001b[0m\u001b[1;32m   1403\u001b[0m         \u001b[0mcontent_or_path\u001b[0m\u001b[0;34m,\u001b[0m \u001b[0;34m\"rb\"\u001b[0m\u001b[0;34m,\u001b[0m \u001b[0mstorage_options\u001b[0m\u001b[0;34m=\u001b[0m\u001b[0mstorage_options\u001b[0m\u001b[0;34m,\u001b[0m \u001b[0mis_text\u001b[0m\u001b[0;34m=\u001b[0m\u001b[0;32mFalse\u001b[0m\u001b[0;34m\u001b[0m\u001b[0;34m\u001b[0m\u001b[0m\n\u001b[1;32m   1404\u001b[0m     ) as handle:\n",
            "\u001b[0;32m/usr/local/lib/python3.12/dist-packages/pandas/io/common.py\u001b[0m in \u001b[0;36mget_handle\u001b[0;34m(path_or_buf, mode, encoding, compression, memory_map, is_text, errors, storage_options)\u001b[0m\n\u001b[1;32m    880\u001b[0m         \u001b[0;32melse\u001b[0m\u001b[0;34m:\u001b[0m\u001b[0;34m\u001b[0m\u001b[0;34m\u001b[0m\u001b[0m\n\u001b[1;32m    881\u001b[0m             \u001b[0;31m# Binary mode\u001b[0m\u001b[0;34m\u001b[0m\u001b[0;34m\u001b[0m\u001b[0m\n\u001b[0;32m--> 882\u001b[0;31m             \u001b[0mhandle\u001b[0m \u001b[0;34m=\u001b[0m \u001b[0mopen\u001b[0m\u001b[0;34m(\u001b[0m\u001b[0mhandle\u001b[0m\u001b[0;34m,\u001b[0m \u001b[0mioargs\u001b[0m\u001b[0;34m.\u001b[0m\u001b[0mmode\u001b[0m\u001b[0;34m)\u001b[0m\u001b[0;34m\u001b[0m\u001b[0;34m\u001b[0m\u001b[0m\n\u001b[0m\u001b[1;32m    883\u001b[0m         \u001b[0mhandles\u001b[0m\u001b[0;34m.\u001b[0m\u001b[0mappend\u001b[0m\u001b[0;34m(\u001b[0m\u001b[0mhandle\u001b[0m\u001b[0;34m)\u001b[0m\u001b[0;34m\u001b[0m\u001b[0;34m\u001b[0m\u001b[0m\n\u001b[1;32m    884\u001b[0m \u001b[0;34m\u001b[0m\u001b[0m\n",
            "\u001b[0;31mFileNotFoundError\u001b[0m: [Errno 2] No such file or directory: 'pwt100.xlsx'"
          ]
        }
      ],
      "source": [
        "# Aquí escribes Python\n",
        "pib_argentina = 445000  # Millones de USD\n",
        "print(\"PIB de Argentina:\", pib_argentina)\n",
        "\n",
        "#Se ejecutan con Shift + Enter\n",
        "#Muestran resultados abajo\n",
        "\n",
        "#Metodo manual de carga de archivos\n",
        "\n",
        "# 1. Click en icono de carpeta (izquierda)\n",
        "# 2. Click en icono \"Subir archivo\"\n",
        "# 3. Seleccionar archivo (ej: pwt100.xlsx)\n",
        "\n",
        "# Después leer el archivo:\n",
        "import pandas as pd\n",
        "datos = pd.read_excel('pwt100.xlsx')\n",
        "\n",
        "#Conexión con Drive\n",
        "from google.colab import drive\n",
        "drive.mount('/content/drive')\n",
        "\n",
        "# Ahora puedes acceder a archivos en tu Drive:\n",
        "datos = pd.read_excel('/content/drive/MyDrive/datos_economia/pwt100.xlsx')\n",
        "\n",
        "#Tipos de datos\n",
        "#Enteros (int) - Para conteos y años:\n",
        "año_actual = 2024\n",
        "poblacion_argentina = 45000000\n",
        "numero_provincias = 24\n",
        "\n",
        "#Flotantes (float) - Para valores con decimales:\n",
        "pib_per_capita = 12370.5    # USD\n",
        "tasa_inflacion = 0.255      # 25.5%\n",
        "tipo_cambio = 350.75        # ARS/USD\n",
        "\n",
        "#Strings (str) - Para texto:\n",
        "pais = \"Argentina\"\n",
        "region = \"América Latina\"\n",
        "moneda = \"Peso Argentino\"\n",
        "\n",
        "#Booleanos (bool) - Para verdadero/falso:\n",
        "es_pais_desarrollado = False\n",
        "tiene_recursos_naturales = True\n",
        "es_miembro_g20 = True\n",
        "\n",
        "#Una variable es como un indicador económico con nombre:\n",
        "# Como el INDEC publica indicadores:\n",
        "ipc_mensual = 12.8          # Inflación mensual\n",
        "desempleo_trimestral = 6.2  # Tasa de desempleo\n",
        "reservas_bcra = 28500       # Millones USD\n",
        "\n",
        "# Usar las variables:\n",
        "print(\"Inflación mensual:\", ipc_mensual, \"%\")\n",
        "print(\"Reservas del BCRA:\", reservas_bcra, \"millones USD\")\n",
        "\n",
        "\n",
        "##Ejemplo práctico completo: Mini DataFrame y gráfico\n",
        "\n",
        "import pandas as pd\n",
        "import matplotlib.pyplot as plt\n",
        "\n",
        "# Crear mini dataset de países sudamericanos:\n",
        "sudamerica = pd.DataFrame({\n",
        "    'pais': ['Argentina', 'Brasil', 'Chile', 'Colombia', 'Perú'],\n",
        "    'pib_2023': [487, 2126, 317, 343, 242],  # Miles de millones USD\n",
        "    'poblacion': [45.0, 215.3, 19.5, 51.9, 33.4]  # Millones\n",
        "})\n",
        "\n",
        "# Calcular PIB per cápita:\n",
        "sudamerica['pib_per_capita'] = (sudamerica['pib_2023'] * 1000) / sudamerica['poblacion']\n",
        "\n",
        "print(\"Datos Sudamérica 2023:\")\n",
        "print(sudamerica)\n",
        "\n",
        "# Gráfico de barras:\n",
        "plt.figure(figsize=(10, 6))\n",
        "plt.bar(sudamerica['pais'], sudamerica['pib_per_capita'],\n",
        "        color=['lightblue', 'green', 'orange', 'red', 'purple'], alpha=0.7)\n",
        "\n",
        "plt.title('PIB per cápita - Países Sudamericanos 2023', fontsize=14, fontweight='bold')\n",
        "plt.ylabel('PIB per cápita (USD)')\n",
        "plt.xticks(rotation=45)\n",
        "plt.grid(True, alpha=0.3, axis='y')\n",
        "plt.tight_layout()\n",
        "plt.show()\n",
        "\n",
        "# Ranking:\n",
        "ranking = sudamerica.sort_values('pib_per_capita', ascending=False)\n",
        "print(\"\\n🏆 Ranking PIB per cápita:\")\n",
        "for i, row in ranking.iterrows():\n",
        "    print(f\"{row.name+1}. {row['pais']}: ${row['pib_per_capita']:.0f}\")\n",
        "\n"
      ]
    }
  ]
}